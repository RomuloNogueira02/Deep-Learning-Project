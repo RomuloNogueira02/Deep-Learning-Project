{
 "cells": [
  {
   "cell_type": "markdown",
   "metadata": {},
   "source": [
    "# Introdução ao dataset\n",
    "\n",
    "Temos dois datasets:\n",
    "\n",
    "1. <b>Algarve</b>\n",
    "2. <b>swimmingPool</b>\n",
    "\n",
    "Em termos de estrutura:\n",
    "\n",
    "- Algarve > images (.png)\n",
    "\n",
    "- Algarve > labels (.xml)\n",
    "\n",
    "Já o dataset de swimming pool tem...\n",
    "\n",
    "- swimmingPool > training > images (.jpg)\n",
    "\n",
    "- swimmingPool > training > labels (.xml)\n",
    "\n",
    "- swimmingPool > testing > images (.jpg)\n",
    "\n",
    "- swimmingPool > testing > labels (.xml)\n",
    "\n",
    "\n",
    "        "
   ]
  },
  {
   "cell_type": "code",
   "execution_count": 1,
   "metadata": {},
   "outputs": [],
   "source": [
    "import os"
   ]
  },
  {
   "cell_type": "markdown",
   "metadata": {},
   "source": [
    "## Algarve"
   ]
  },
  {
   "cell_type": "code",
   "execution_count": 20,
   "metadata": {},
   "outputs": [
    {
     "name": "stdout",
     "output_type": "stream",
     "text": [
      "---- Stats ----\n",
      "Número de imagens: 289\n",
      "Número de labels: 172\n",
      "\n",
      "Imagens sem label (podem ser usadas para teste): \n",
      "total: 117\n",
      "[14, 15, 16, 19, 20, 35, 46, 49, 56, 77, 80, 85, 95, 97, 98, 99, 103, 104, 105, 106, 110, 111, 112, 116, 132, 135, 139, 141, 143, 153, 155, 161, 165, 179, 180, 193, 194, 195, 196, 197, 198, 199, 200, 202, 203, 205, 206, 207, 208, 209, 210, 212, 213, 215, 217, 223, 225, 226, 228, 229, 231, 232, 233, 234, 235, 236, 237, 238, 239, 240, 241, 242, 243, 244, 245, 246, 247, 248, 249, 250, 251, 252, 253, 254, 255, 256, 258, 259, 260, 261, 262, 263, 264, 265, 267, 268, 269, 270, 271, 272, 273, 274, 275, 276, 277, 278, 279, 280, 281, 282, 284, 285, 286, 287, 288, 289, 290]\n"
     ]
    }
   ],
   "source": [
    "root_algarve = os.getcwd() + \"\\\\Algarve\"\n",
    "path_images_algarve = root_algarve + \"\\\\images\"\n",
    "path_labels_algarve = root_algarve + \"\\\\labels\"\n",
    "\n",
    "dir_images_algarve = os.listdir(path_images_algarve)\n",
    "dir_labels_algarve = os.listdir(path_labels_algarve)\n",
    "\n",
    "\n",
    "print(\"---- Stats ----\")\n",
    "print(\"Número de imagens:\",len(dir_images_algarve))\n",
    "print(\"Número de labels:\",len(dir_labels_algarve))\n",
    "\n",
    "# Algumas imagens não têm label??\n",
    "print()\n",
    "\n",
    "print(\"Imagens sem label (podem ser usadas para teste): \")\n",
    "\n",
    "set_images = set(list(map(lambda v: int(v.split(\".\")[0]), dir_images_algarve)))\n",
    "set_labels = set(list(map(lambda v: int(v.split(\".\")[0]), dir_labels_algarve)))\n",
    "\n",
    "l = []\n",
    "for val in set_images:\n",
    "    if val not in set_labels:\n",
    "        l.append(val)\n",
    "\n",
    "print(\"total:\", len(l))\n",
    "print(l)\n",
    "\n",
    "\n",
    "# Check se existe alguma label sem imagem, não existe\n",
    "# l2 = []\n",
    "# for val in set_labels:\n",
    "#     if val not in set_images:\n",
    "#         l2.append(val)\n",
    "\n",
    "# print(\"total:\", len(l2))\n",
    "# print(l2)\n"
   ]
  },
  {
   "cell_type": "markdown",
   "metadata": {},
   "source": [
    "Conclusão: este dataset do algarve é um bocado pequeno"
   ]
  },
  {
   "cell_type": "markdown",
   "metadata": {},
   "source": [
    "## Swimming Pool"
   ]
  },
  {
   "cell_type": "code",
   "execution_count": 23,
   "metadata": {},
   "outputs": [
    {
     "name": "stdout",
     "output_type": "stream",
     "text": [
      "---- Stats ----\n",
      "TRAINING\n",
      "Número de imagens: 1993\n",
      "Número de labels: 1993\n",
      "\n",
      "TESTING\n",
      "Número de imagens: 2703\n",
      "Número de labels: 525\n"
     ]
    }
   ],
   "source": [
    "root_sp = os.getcwd() + \"\\\\swimmingPool\"\n",
    "path_training_images_sp = root_sp + \"\\\\training\\\\images\"\n",
    "path_training_labels_sp = root_sp + \"\\\\training\\\\labels\"\n",
    "path_testing_images_sp = root_sp + \"\\\\testing\\\\images\"\n",
    "path_testing_labels_sp = root_sp + \"\\\\testing\\\\labels\"\n",
    "\n",
    "print(\"---- Stats ----\")\n",
    "\n",
    "print(\"TRAINING\")\n",
    "print(\"Número de imagens:\", len(os.listdir(path_training_images_sp)))\n",
    "print(\"Número de labels:\", len(os.listdir(path_training_labels_sp)))\n",
    "\n",
    "print()\n",
    "\n",
    "print(\"TESTING\")\n",
    "print(\"Número de imagens:\", len(os.listdir(path_testing_images_sp)))\n",
    "print(\"Número de labels:\", len(os.listdir(path_testing_labels_sp)))\n",
    "\n",
    "\n",
    "# Acontece o mesmo no testing que o do algarve... "
   ]
  }
 ],
 "metadata": {
  "kernelspec": {
   "display_name": "Python 3",
   "language": "python",
   "name": "python3"
  },
  "language_info": {
   "codemirror_mode": {
    "name": "ipython",
    "version": 3
   },
   "file_extension": ".py",
   "mimetype": "text/x-python",
   "name": "python",
   "nbconvert_exporter": "python",
   "pygments_lexer": "ipython3",
   "version": "3.9.13"
  }
 },
 "nbformat": 4,
 "nbformat_minor": 2
}
