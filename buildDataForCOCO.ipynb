{
 "cells": [
  {
   "cell_type": "code",
   "execution_count": 76,
   "metadata": {},
   "outputs": [],
   "source": [
    "import os\n",
    "import random\n",
    "import shutil\n",
    "from helpers import *\n",
    "import json"
   ]
  },
  {
   "cell_type": "markdown",
   "metadata": {},
   "source": [
    "Training - 70% - 4967\n",
    "\n",
    "Validation - 20% - 1419\n",
    "\n",
    "Testing - 10% - 709"
   ]
  },
  {
   "cell_type": "code",
   "execution_count": 51,
   "metadata": {},
   "outputs": [
    {
     "data": {
      "text/plain": [
       "7097"
      ]
     },
     "execution_count": 51,
     "metadata": {},
     "output_type": "execute_result"
    }
   ],
   "source": [
    "images = os.listdir('./dataset/images')\n",
    "len(images)"
   ]
  },
  {
   "cell_type": "code",
   "execution_count": 52,
   "metadata": {},
   "outputs": [],
   "source": [
    "p = int((70 / 100) * len(images))\n",
    "\n",
    "TRAINING = random.sample(images, p)"
   ]
  },
  {
   "cell_type": "code",
   "execution_count": 53,
   "metadata": {},
   "outputs": [
    {
     "data": {
      "text/plain": [
       "2130"
      ]
     },
     "execution_count": 53,
     "metadata": {},
     "output_type": "execute_result"
    }
   ],
   "source": [
    "imgs  = list(set(images).difference(set(TRAINING)))\n",
    "len(imgs)"
   ]
  },
  {
   "cell_type": "code",
   "execution_count": 54,
   "metadata": {},
   "outputs": [
    {
     "data": {
      "text/plain": [
       "1406"
      ]
     },
     "execution_count": 54,
     "metadata": {},
     "output_type": "execute_result"
    }
   ],
   "source": [
    "VALIDATION = random.sample(imgs, round(0.66 * len(imgs)))\n",
    "len(VALIDATION)"
   ]
  },
  {
   "cell_type": "code",
   "execution_count": 55,
   "metadata": {},
   "outputs": [
    {
     "name": "stdout",
     "output_type": "stream",
     "text": [
      "724\n"
     ]
    }
   ],
   "source": [
    "TEST = list(set(imgs).difference(set(VALIDATION)))\n",
    "print(len(TEST))"
   ]
  },
  {
   "cell_type": "code",
   "execution_count": 56,
   "metadata": {},
   "outputs": [
    {
     "data": {
      "text/plain": [
       "True"
      ]
     },
     "execution_count": 56,
     "metadata": {},
     "output_type": "execute_result"
    }
   ],
   "source": [
    "len(images) == len(TRAINING) + len(VALIDATION) + len(TEST)"
   ]
  },
  {
   "cell_type": "code",
   "execution_count": 58,
   "metadata": {},
   "outputs": [],
   "source": [
    "for img in TRAINING:\n",
    "    shutil.copyfile(f'./dataset/images/{img}', f'./dataset-DETR/train/{img}')"
   ]
  },
  {
   "cell_type": "code",
   "execution_count": 59,
   "metadata": {},
   "outputs": [],
   "source": [
    "for img in VALIDATION:\n",
    "    shutil.copyfile(f'./dataset/images/{img}', f'./dataset-DETR/valid/{img}')"
   ]
  },
  {
   "cell_type": "code",
   "execution_count": 60,
   "metadata": {},
   "outputs": [],
   "source": [
    "for img in TEST:\n",
    "    shutil.copyfile(f'./dataset/images/{img}', f'./dataset-DETR/test/{img}')"
   ]
  },
  {
   "cell_type": "markdown",
   "metadata": {},
   "source": [
    "#### Build annotation file"
   ]
  },
  {
   "cell_type": "code",
   "execution_count": 79,
   "metadata": {},
   "outputs": [],
   "source": [
    "info = {\n",
    "    'year': 2024,\n",
    "    'version': '1.0',\n",
    "    'description': 'Swimming pool dataset for object detection',\n",
    "    'contributor': 'Rómulo Nogueira & Guilherme Ribeiro',\n",
    "    'url': '',\n",
    "    'date_created': '2024/05/16'\n",
    "}"
   ]
  },
  {
   "cell_type": "code",
   "execution_count": 80,
   "metadata": {},
   "outputs": [],
   "source": [
    "licenses = [\n",
    "    {\n",
    "        'id': 1,\n",
    "        'name': 'Attribution-NonCommercial-ShareAlike License',\n",
    "        'url': 'http://creativecommons.org/licenses/by-nc-sa/2.0/'\n",
    "    }\n",
    "]"
   ]
  },
  {
   "cell_type": "code",
   "execution_count": 81,
   "metadata": {},
   "outputs": [],
   "source": [
    "categories = [\n",
    "    {\n",
    "        \"id\": 1,\n",
    "        \"name\": \"pool\",\n",
    "        \"supercategory\": None,\n",
    "    }\n",
    "]"
   ]
  },
  {
   "cell_type": "markdown",
   "metadata": {},
   "source": [
    "For training"
   ]
  },
  {
   "cell_type": "code",
   "execution_count": 82,
   "metadata": {},
   "outputs": [],
   "source": [
    "images = []\n",
    "annotations = []\n",
    "for img in TRAINING:\n",
    "    \n",
    "    if \"sp\" in img:\n",
    "        width, height = 224, 224\n",
    "    else:\n",
    "        width, height = 512, 512\n",
    "\n",
    "    images.append({\n",
    "        'id': len(images),\n",
    "        'width': width,\n",
    "        'height': height,\n",
    "        'file_name': img,\n",
    "        'license': 1,\n",
    "    })\n",
    "\n",
    "    try:\n",
    "        xml_path = f'./dataset/labels/{img.replace(\"jpg\", \"xml\")}'\n",
    "        boxes = getBoxes(xml_path)\n",
    "\n",
    "        for box in boxes:\n",
    "            x, y, w, h = box\n",
    "            annotations.append({\n",
    "                'id': len(annotations),\n",
    "                'image_id': len(images) - 1,\n",
    "                'category_id': 1,\n",
    "                'bbox': [x, y, w, h],\n",
    "                'area': w * h,\n",
    "            })\n",
    "    except:\n",
    "        continue\n"
   ]
  },
  {
   "cell_type": "code",
   "execution_count": 83,
   "metadata": {},
   "outputs": [
    {
     "data": {
      "text/plain": [
       "(4967, 2597)"
      ]
     },
     "execution_count": 83,
     "metadata": {},
     "output_type": "execute_result"
    }
   ],
   "source": [
    "len(images), len(annotations)"
   ]
  },
  {
   "cell_type": "code",
   "execution_count": 84,
   "metadata": {},
   "outputs": [],
   "source": [
    "toAdd = {\n",
    "    'info': info,\n",
    "    'licenses': licenses,\n",
    "    'categories': categories,\n",
    "    'images': images,\n",
    "    'annotations': annotations\n",
    "}"
   ]
  },
  {
   "cell_type": "code",
   "execution_count": 86,
   "metadata": {},
   "outputs": [],
   "source": [
    "with open('./dataset-DETR/train/annotations.json', 'w') as f:\n",
    "    json.dump(toAdd, f)"
   ]
  },
  {
   "cell_type": "markdown",
   "metadata": {},
   "source": [
    "For validation"
   ]
  },
  {
   "cell_type": "code",
   "execution_count": 87,
   "metadata": {},
   "outputs": [],
   "source": [
    "images = []\n",
    "annotations = []\n",
    "for img in VALIDATION:\n",
    "    \n",
    "    if \"sp\" in img:\n",
    "        width, height = 224, 224\n",
    "    else:\n",
    "        width, height = 512, 512\n",
    "\n",
    "    images.append({\n",
    "        'id': len(images),\n",
    "        'width': width,\n",
    "        'height': height,\n",
    "        'file_name': img,\n",
    "        'license': 1,\n",
    "    })\n",
    "\n",
    "    try:\n",
    "        xml_path = f'./dataset/labels/{img.replace(\"jpg\", \"xml\")}'\n",
    "        boxes = getBoxes(xml_path)\n",
    "\n",
    "        for box in boxes:\n",
    "            x, y, w, h = box\n",
    "            annotations.append({\n",
    "                'id': len(annotations),\n",
    "                'image_id': len(images) - 1,\n",
    "                'category_id': 1,\n",
    "                'bbox': [x, y, w, h],\n",
    "                'area': w * h,\n",
    "            })\n",
    "    except:\n",
    "        continue"
   ]
  },
  {
   "cell_type": "code",
   "execution_count": 88,
   "metadata": {},
   "outputs": [],
   "source": [
    "toAdd = {\n",
    "    'info': info,\n",
    "    'licenses': licenses,\n",
    "    'categories': categories,\n",
    "    'images': images,\n",
    "    'annotations': annotations\n",
    "}"
   ]
  },
  {
   "cell_type": "code",
   "execution_count": 89,
   "metadata": {},
   "outputs": [],
   "source": [
    "with open('./dataset-DETR/valid/annotations.json', 'w') as f:\n",
    "    json.dump(toAdd, f)"
   ]
  },
  {
   "cell_type": "markdown",
   "metadata": {},
   "source": [
    "For testing"
   ]
  },
  {
   "cell_type": "code",
   "execution_count": 90,
   "metadata": {},
   "outputs": [],
   "source": [
    "images = []\n",
    "annotations = []\n",
    "for img in TRAINING:\n",
    "    \n",
    "    if \"sp\" in img:\n",
    "        width, height = 224, 224\n",
    "    else:\n",
    "        width, height = 512, 512\n",
    "\n",
    "    images.append({\n",
    "        'id': len(images),\n",
    "        'width': width,\n",
    "        'height': height,\n",
    "        'file_name': img,\n",
    "        'license': 1,\n",
    "    })\n",
    "\n",
    "    try:\n",
    "        xml_path = f'./dataset/labels/{img.replace(\"jpg\", \"xml\")}'\n",
    "        boxes = getBoxes(xml_path)\n",
    "\n",
    "        for box in boxes:\n",
    "            x, y, w, h = box\n",
    "            annotations.append({\n",
    "                'id': len(annotations),\n",
    "                'image_id': len(images) - 1,\n",
    "                'category_id': 1,\n",
    "                'bbox': [x, y, w, h],\n",
    "                'area': w * h,\n",
    "            })\n",
    "    except:\n",
    "        continue"
   ]
  },
  {
   "cell_type": "code",
   "execution_count": 91,
   "metadata": {},
   "outputs": [],
   "source": [
    "toAdd = {\n",
    "    'info': info,\n",
    "    'licenses': licenses,\n",
    "    'categories': categories,\n",
    "    'images': images,\n",
    "    'annotations': annotations\n",
    "}"
   ]
  },
  {
   "cell_type": "code",
   "execution_count": 92,
   "metadata": {},
   "outputs": [],
   "source": [
    "with open('./dataset-DETR/test/annotations.json', 'w') as f:\n",
    "    json.dump(toAdd, f)"
   ]
  }
 ],
 "metadata": {
  "kernelspec": {
   "display_name": "Python 3",
   "language": "python",
   "name": "python3"
  },
  "language_info": {
   "codemirror_mode": {
    "name": "ipython",
    "version": 3
   },
   "file_extension": ".py",
   "mimetype": "text/x-python",
   "name": "python",
   "nbconvert_exporter": "python",
   "pygments_lexer": "ipython3",
   "version": "3.11.2"
  }
 },
 "nbformat": 4,
 "nbformat_minor": 2
}
