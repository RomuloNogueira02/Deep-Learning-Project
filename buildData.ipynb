{
 "cells": [
  {
   "cell_type": "markdown",
   "metadata": {},
   "source": [
    "# Build data\n",
    "\n",
    "The objective of this notebook is to take the raw data and organize it in a way that is easier to work with, creating two folders containing the images and the corresponding labels (if they have a swimming pool)."
   ]
  },
  {
   "cell_type": "code",
   "execution_count": 15,
   "metadata": {},
   "outputs": [],
   "source": [
    "# imports\n",
    "\n",
    "import os\n",
    "import shutil\n",
    "import xml.etree.ElementTree as ET"
   ]
  },
  {
   "cell_type": "code",
   "execution_count": 4,
   "metadata": {},
   "outputs": [],
   "source": [
    "# Constants\n",
    "\n",
    "ROOT = os.getcwd()\n",
    "\n",
    "# Raw Dataset 1\n",
    "CANNES_IMAGES = ROOT + \"\\\\Cannes\\\\images\"\n",
    "CANNES_LABELS = ROOT + \"\\\\Cannes\\\\labels\"\n",
    "\n",
    "# Raw Dataset 2\n",
    "SWIMMING_POOL_TRAINING_IMAGES = ROOT + \"\\\\swimmingPool\\\\training\\\\images\"\n",
    "SWIMMING_POOL_TRAINING_LABELS = ROOT + \"\\\\swimmingPool\\\\training\\\\labels\"\n",
    "SWIMMING_POOL_TESTING_IMAGES = ROOT + \"\\\\swimmingPool\\\\testing\\\\images\"\n",
    "SWIMMING_POOL_TESTING_LABELS = ROOT + \"\\\\swimmingPool\\\\testing\\\\labels\"\n",
    "\n",
    "# New Dataset\n",
    "DATASET = ROOT + \"\\\\dataset\"\n",
    "DATASET_IMAGES = DATASET + \"\\\\images\"\n",
    "DATASET_LABELS = DATASET + \"\\\\labels\""
   ]
  },
  {
   "cell_type": "markdown",
   "metadata": {},
   "source": [
    "### 1. Create the folders"
   ]
  },
  {
   "cell_type": "code",
   "execution_count": 5,
   "metadata": {},
   "outputs": [],
   "source": [
    "if not(os.path.exists(DATASET)):\n",
    "    os.makedirs(DATASET)\n",
    "if not(os.path.exists(DATASET_IMAGES)):\n",
    "    os.makedirs(DATASET_IMAGES)\n",
    "if not(os.path.exists(DATASET_LABELS)):\n",
    "    os.makedirs(DATASET_LABELS)"
   ]
  },
  {
   "cell_type": "markdown",
   "metadata": {},
   "source": [
    "### 2. Info about the raw data"
   ]
  },
  {
   "cell_type": "code",
   "execution_count": 6,
   "metadata": {},
   "outputs": [
    {
     "name": "stdout",
     "output_type": "stream",
     "text": [
      "The Cannes dataset has 2401 images\n",
      "And 1224 are labeled\n",
      "\n",
      "The swimming pool dataset has 4696 images\n",
      "And 2517 are labeled\n"
     ]
    }
   ],
   "source": [
    "\n",
    "list_cannes_images = os.listdir(CANNES_IMAGES)\n",
    "list_cannes_labels = os.listdir(CANNES_LABELS)\n",
    "\n",
    "list_sp_training_images = os.listdir(SWIMMING_POOL_TRAINING_IMAGES)\n",
    "list_sp_testing_images = os.listdir(SWIMMING_POOL_TESTING_IMAGES)\n",
    "list_sp_training_labels = os.listdir(SWIMMING_POOL_TRAINING_LABELS)\n",
    "list_sp_testing_labels = os.listdir(SWIMMING_POOL_TESTING_LABELS)\n",
    "\n",
    "print(\"The Cannes dataset has %s images\" % len(list_cannes_images))\n",
    "print(\"And %s are labeled\" % len(list_cannes_labels))\n",
    "dif_cannes = len(list_cannes_images) - len(list_cannes_labels)\n",
    "\n",
    "print()\n",
    "\n",
    "print(\"The swimming pool dataset has %s images\" % (len(list_sp_testing_images) + len(list_sp_training_images)))\n",
    "print(\"And %s are labeled\" % (len(list_sp_training_labels) + len(list_sp_testing_labels)))\n",
    "dif_sp = len(list_sp_testing_images) + len(list_sp_training_images) - len(list_sp_training_labels) - len(list_sp_testing_labels)"
   ]
  },
  {
   "cell_type": "markdown",
   "metadata": {},
   "source": [
    "### 3. Cannes raw data"
   ]
  },
  {
   "cell_type": "code",
   "execution_count": 8,
   "metadata": {},
   "outputs": [],
   "source": [
    "cannes_labels_names = list(map(lambda v: v.split(\".\")[1], list_cannes_labels))\n",
    "\n",
    "for val in list_cannes_images:\n",
    "    src  = CANNES_IMAGES + \"\\\\\" + val\n",
    "    \n",
    "    shutil.copy(src, DATASET_IMAGES + \"\\\\\" + val)\n",
    "\n",
    "    if val.split(\".\")[1] in cannes_labels_names:\n",
    "\n",
    "        new_val = \".\".join(val.split(\".\")[0:2]) + \".xml\"\n",
    "        src_2 = CANNES_LABELS + \"\\\\\" + new_val\n",
    "        \n",
    "        shutil.copy(src_2, DATASET_LABELS + \"\\\\\" + new_val)\n",
    "        \n",
    "print(\"Cannes dataset copied\")"
   ]
  },
  {
   "cell_type": "markdown",
   "metadata": {},
   "source": [
    "### 4. Swimming pool data"
   ]
  },
  {
   "cell_type": "code",
   "execution_count": 9,
   "metadata": {},
   "outputs": [
    {
     "name": "stdout",
     "output_type": "stream",
     "text": [
      "Training folder done!\n",
      "Testing folder done!\n",
      "Swimming pool dataset copied\n"
     ]
    }
   ],
   "source": [
    "# it will be necessary to rename them to merge\n",
    "# it is better to do it in 2 steps, one for training and one for testing\n",
    "prefix = \"sp_\"\n",
    "counter = 0\n",
    "\n",
    "# for the training folder\n",
    "sp_training_labels_names = list(map(lambda v: v.split(\".\")[0], list_sp_training_labels))\n",
    "\n",
    "for val in list_sp_training_images:\n",
    "    src  = SWIMMING_POOL_TRAINING_IMAGES + \"\\\\\" + val\n",
    "    new_name = prefix + str(counter)\n",
    "\n",
    "    shutil.copy(src, DATASET_IMAGES + \"\\\\\" + new_name + \".jpg\")\n",
    "\n",
    "    if val.split(\".\")[0] in sp_training_labels_names:\n",
    "        \n",
    "        src_2 = SWIMMING_POOL_TRAINING_LABELS + \"\\\\\" + val.split(\".\")[0] + \".xml\"\n",
    "        shutil.copy(src_2, DATASET_LABELS + \"\\\\\" + new_name + \".xml\")\n",
    "\n",
    "    counter +=1\n",
    "\n",
    "print(\"Training folder done!\")\n",
    "\n",
    "# for the testing folder\n",
    "sp_testing_labels_names = list(map(lambda v: v.split(\".\")[0], list_sp_testing_labels))\n",
    "\n",
    "for val in list_sp_testing_images:\n",
    "    src  = SWIMMING_POOL_TESTING_IMAGES + \"\\\\\" + val\n",
    "    new_name = prefix + str(counter)\n",
    "\n",
    "    shutil.copy(src, DATASET_IMAGES + \"\\\\\" + new_name + \".jpg\")\n",
    "\n",
    "    if val.split(\".\")[0] in sp_testing_labels_names:\n",
    "\n",
    "        src_2 = SWIMMING_POOL_TESTING_LABELS + \"\\\\\" + val.split(\".\")[0] + \".xml\"\n",
    "        shutil.copy(src_2, DATASET_LABELS + \"\\\\\" + new_name + \".xml\")\n",
    "\n",
    "\n",
    "    counter +=1\n",
    "\n",
    "print(\"Testing folder done!\")\n",
    "print(\"Swimming pool dataset copied\")"
   ]
  },
  {
   "cell_type": "code",
   "execution_count": 14,
   "metadata": {},
   "outputs": [
    {
     "name": "stdout",
     "output_type": "stream",
     "text": [
      "---- CONFIRMATIONS ----\n",
      "We should have 3741 images, check = True\n",
      "We should habe 3741 labels, check = True\n",
      "\n",
      "Modifying xmls...\n"
     ]
    }
   ],
   "source": [
    "# Confirmations \n",
    "sil = len(list_cannes_labels) + len(list_sp_training_labels) + len(list_sp_testing_labels)\n",
    "sinl = dif_cannes + dif_sp\n",
    "\n",
    "print(\"---- CONFIRMATIONS ----\")\n",
    "print(\"We should have %d images, check = %s\" % (sil, len(os.listdir(DATASET_IMAGES))== sil + sinl))\n",
    "print(\"We should habe %d labels, check = %s\" % (sil, len(os.listdir(DATASET_LABELS))== sil))"
   ]
  },
  {
   "cell_type": "markdown",
   "metadata": {},
   "source": [
    "### 5. Modify the labels\n",
    "\n",
    "Because we changed the names of the images, we need to modify the labels to match the new names."
   ]
  },
  {
   "cell_type": "code",
   "execution_count": 16,
   "metadata": {},
   "outputs": [],
   "source": [
    "# Auxiliar functions\n",
    "\n",
    "def getImagePath(xml_name):\n",
    "    splitted = xml_name.split(\".\")\n",
    "    final = \"\"\n",
    "    if len(splitted) > 2:\n",
    "        final = \".\".join(splitted[0:2]) + \".png\"\n",
    "    else:\n",
    "        final = splitted[0] + \".jpg\"\n",
    "\n",
    "    return DATASET_IMAGES + \"\\\\\" + final\n",
    "\n",
    "def change_name_to_img(file):\n",
    "    splitted = file.split(\".\")\n",
    "    final = \"\"\n",
    "    if len(splitted) > 2:\n",
    "        final = \".\".join(splitted[0:2]) + \".png\"\n",
    "    else:\n",
    "        final = splitted[0] + \".jpg\"\n",
    "\n",
    "    return final"
   ]
  },
  {
   "cell_type": "code",
   "execution_count": 17,
   "metadata": {},
   "outputs": [],
   "source": [
    "for filename in os.listdir(DATASET_LABELS):\n",
    "    xml_file = os.path.join(DATASET_LABELS, filename)\n",
    "\n",
    "    # Parse the XML file\n",
    "    tree = ET.parse(xml_file)\n",
    "    root = tree.getroot()\n",
    "\n",
    "    # Find the filename and path elements and update their text\n",
    "    for filename_element in root.iter('filename'):\n",
    "        filename_element.text = change_name_to_img(filename)\n",
    "\n",
    "    for path_element in root.iter('path'):\n",
    "        path_element.text = getImagePath(filename)\n",
    "\n",
    "    # Write the modified XML back to the file\n",
    "    tree.write(xml_file)\n"
   ]
  }
 ],
 "metadata": {
  "kernelspec": {
   "display_name": "Python 3",
   "language": "python",
   "name": "python3"
  },
  "language_info": {
   "codemirror_mode": {
    "name": "ipython",
    "version": 3
   },
   "file_extension": ".py",
   "mimetype": "text/x-python",
   "name": "python",
   "nbconvert_exporter": "python",
   "pygments_lexer": "ipython3",
   "version": "3.11.2"
  }
 },
 "nbformat": 4,
 "nbformat_minor": 2
}
