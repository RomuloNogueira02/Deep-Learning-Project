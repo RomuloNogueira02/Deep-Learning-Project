{
 "cells": [
  {
   "cell_type": "code",
   "execution_count": 1,
   "metadata": {},
   "outputs": [
    {
     "name": "stderr",
     "output_type": "stream",
     "text": [
      "c:\\Users\\romul\\AppData\\Local\\Programs\\Python\\Python311\\Lib\\site-packages\\tqdm\\auto.py:21: TqdmWarning: IProgress not found. Please update jupyter and ipywidgets. See https://ipywidgets.readthedocs.io/en/stable/user_install.html\n",
      "  from .autonotebook import tqdm as notebook_tqdm\n",
      "c:\\Users\\romul\\AppData\\Local\\Programs\\Python\\Python311\\Lib\\site-packages\\transformers\\utils\\generic.py:441: UserWarning: torch.utils._pytree._register_pytree_node is deprecated. Please use torch.utils._pytree.register_pytree_node instead.\n",
      "  _torch_pytree._register_pytree_node(\n"
     ]
    }
   ],
   "source": [
    "import os\n",
    "import random\n",
    "import shutil\n",
    "from helpers import *\n",
    "import json"
   ]
  },
  {
   "cell_type": "code",
   "execution_count": 2,
   "metadata": {},
   "outputs": [],
   "source": [
    "def convert_coordinates(coords):\n",
    "    xmin, ymin, xmax, ymax = coords\n",
    "    x = xmin\n",
    "    y = ymin\n",
    "    width = xmax - xmin\n",
    "    height = ymax - ymin\n",
    "    \n",
    "    return [x, y, width, height]"
   ]
  },
  {
   "cell_type": "markdown",
   "metadata": {},
   "source": [
    "Training - 70% - 4967\n",
    "\n",
    "Validation - 20% - 1419\n",
    "\n",
    "Testing - 10% - 709"
   ]
  },
  {
   "cell_type": "code",
   "execution_count": 3,
   "metadata": {},
   "outputs": [
    {
     "data": {
      "text/plain": [
       "7097"
      ]
     },
     "execution_count": 3,
     "metadata": {},
     "output_type": "execute_result"
    }
   ],
   "source": [
    "images = os.listdir('./dataset/images')\n",
    "len(images)"
   ]
  },
  {
   "cell_type": "code",
   "execution_count": 4,
   "metadata": {},
   "outputs": [],
   "source": [
    "p = int((70 / 100) * len(images))\n",
    "\n",
    "TRAINING = random.sample(images, p)"
   ]
  },
  {
   "cell_type": "code",
   "execution_count": 5,
   "metadata": {},
   "outputs": [
    {
     "data": {
      "text/plain": [
       "2130"
      ]
     },
     "execution_count": 5,
     "metadata": {},
     "output_type": "execute_result"
    }
   ],
   "source": [
    "imgs  = list(set(images).difference(set(TRAINING)))\n",
    "len(imgs)"
   ]
  },
  {
   "cell_type": "code",
   "execution_count": 6,
   "metadata": {},
   "outputs": [
    {
     "data": {
      "text/plain": [
       "1406"
      ]
     },
     "execution_count": 6,
     "metadata": {},
     "output_type": "execute_result"
    }
   ],
   "source": [
    "VALIDATION = random.sample(imgs, round(0.66 * len(imgs)))\n",
    "len(VALIDATION)"
   ]
  },
  {
   "cell_type": "code",
   "execution_count": 7,
   "metadata": {},
   "outputs": [
    {
     "name": "stdout",
     "output_type": "stream",
     "text": [
      "724\n"
     ]
    }
   ],
   "source": [
    "TEST = list(set(imgs).difference(set(VALIDATION)))\n",
    "print(len(TEST))"
   ]
  },
  {
   "cell_type": "code",
   "execution_count": 8,
   "metadata": {},
   "outputs": [
    {
     "data": {
      "text/plain": [
       "True"
      ]
     },
     "execution_count": 8,
     "metadata": {},
     "output_type": "execute_result"
    }
   ],
   "source": [
    "len(images) == len(TRAINING) + len(VALIDATION) + len(TEST)"
   ]
  },
  {
   "cell_type": "code",
   "execution_count": 9,
   "metadata": {},
   "outputs": [],
   "source": [
    "for img in TRAINING:\n",
    "    shutil.copyfile(f'./dataset/images/{img}', f'./dataset-DETR/train/{img}')"
   ]
  },
  {
   "cell_type": "code",
   "execution_count": 10,
   "metadata": {},
   "outputs": [],
   "source": [
    "for img in VALIDATION:\n",
    "    shutil.copyfile(f'./dataset/images/{img}', f'./dataset-DETR/valid/{img}')"
   ]
  },
  {
   "cell_type": "code",
   "execution_count": 11,
   "metadata": {},
   "outputs": [],
   "source": [
    "for img in TEST:\n",
    "    shutil.copyfile(f'./dataset/images/{img}', f'./dataset-DETR/test/{img}')"
   ]
  },
  {
   "cell_type": "markdown",
   "metadata": {},
   "source": [
    "#### Build annotation file"
   ]
  },
  {
   "cell_type": "code",
   "execution_count": 12,
   "metadata": {},
   "outputs": [],
   "source": [
    "info = {\n",
    "    'year': 2024,\n",
    "    'version': '1.0',\n",
    "    'description': 'Swimming pool dataset for object detection',\n",
    "    'contributor': 'Rómulo Nogueira & Guilherme Ribeiro',\n",
    "    'url': '',\n",
    "    'date_created': '2024/05/16'\n",
    "}"
   ]
  },
  {
   "cell_type": "code",
   "execution_count": 13,
   "metadata": {},
   "outputs": [],
   "source": [
    "licenses = [\n",
    "    {\n",
    "        'id': 1,\n",
    "        'name': 'Attribution-NonCommercial-ShareAlike License',\n",
    "        'url': 'http://creativecommons.org/licenses/by-nc-sa/2.0/'\n",
    "    }\n",
    "]"
   ]
  },
  {
   "cell_type": "code",
   "execution_count": 14,
   "metadata": {},
   "outputs": [],
   "source": [
    "categories = [\n",
    "    {\n",
    "        \"id\": 1,\n",
    "        \"name\": \"pool\",\n",
    "        \"supercategory\": None,\n",
    "    }\n",
    "]"
   ]
  },
  {
   "cell_type": "markdown",
   "metadata": {},
   "source": [
    "For training"
   ]
  },
  {
   "cell_type": "code",
   "execution_count": 15,
   "metadata": {},
   "outputs": [],
   "source": [
    "images = []\n",
    "annotations = []\n",
    "for img in TRAINING:\n",
    "    \n",
    "    if \"sp\" in img:\n",
    "        width, height = 224, 224\n",
    "    else:\n",
    "        width, height = 512, 512\n",
    "\n",
    "    images.append({\n",
    "        'id': len(images),\n",
    "        'width': width,\n",
    "        'height': height,\n",
    "        'file_name': img,\n",
    "        'license': 1,\n",
    "    })\n",
    "\n",
    "    try:\n",
    "        xml_path = change_image_to_label(\"./dataset/labels/\" + img)\n",
    "        boxes = getBoxes(xml_path)\n",
    "\n",
    "        for box in boxes:\n",
    "            x, y, w, h = convert_coordinates(box)\n",
    "            annotations.append({\n",
    "                'id': len(annotations),\n",
    "                'image_id': len(images) - 1,\n",
    "                'category_id': 1,\n",
    "                'bbox': [x, y, w, h],\n",
    "                'area': w * h,\n",
    "            })\n",
    "    except:\n",
    "        annotations.append({\n",
    "            'id': len(annotations),\n",
    "            'image_id': len(images) - 1,\n",
    "            'category_id': 1,\n",
    "            'bbox': [0, 0, 0, 0],\n",
    "            'area': 0,\n",
    "        })\n"
   ]
  },
  {
   "cell_type": "code",
   "execution_count": 16,
   "metadata": {},
   "outputs": [
    {
     "data": {
      "text/plain": [
       "(4967, 7242)"
      ]
     },
     "execution_count": 16,
     "metadata": {},
     "output_type": "execute_result"
    }
   ],
   "source": [
    "len(images), len(annotations)"
   ]
  },
  {
   "cell_type": "code",
   "execution_count": 17,
   "metadata": {},
   "outputs": [],
   "source": [
    "toAdd = {\n",
    "    'info': info,\n",
    "    'licenses': licenses,\n",
    "    'categories': categories,\n",
    "    'images': images,\n",
    "    'annotations': annotations\n",
    "}"
   ]
  },
  {
   "cell_type": "code",
   "execution_count": 18,
   "metadata": {},
   "outputs": [],
   "source": [
    "with open('./dataset-DETR/train/annotations.json', 'w') as f:\n",
    "    json.dump(toAdd, f)"
   ]
  },
  {
   "cell_type": "markdown",
   "metadata": {},
   "source": [
    "For validation"
   ]
  },
  {
   "cell_type": "code",
   "execution_count": 19,
   "metadata": {},
   "outputs": [],
   "source": [
    "images = []\n",
    "annotations = []\n",
    "for img in VALIDATION:\n",
    "    \n",
    "    if \"sp\" in img:\n",
    "        width, height = 224, 224\n",
    "    else:\n",
    "        width, height = 512, 512\n",
    "\n",
    "    images.append({\n",
    "        'id': len(images),\n",
    "        'width': width,\n",
    "        'height': height,\n",
    "        'file_name': img,\n",
    "        'license': 1,\n",
    "    })\n",
    "\n",
    "    try:\n",
    "        xml_path = change_image_to_label(\"./dataset/labels/\" + img)\n",
    "        boxes = getBoxes(xml_path)\n",
    "\n",
    "        for box in boxes:\n",
    "            x, y, w, h = convert_coordinates(box)\n",
    "            annotations.append({\n",
    "                'id': len(annotations),\n",
    "                'image_id': len(images) - 1,\n",
    "                'category_id': 1,\n",
    "                'bbox': [x, y, w, h],\n",
    "                'area': w * h,\n",
    "            })\n",
    "    except:\n",
    "        annotations.append({\n",
    "            'id': len(annotations),\n",
    "            'image_id': len(images) - 1,\n",
    "            'category_id': 1,\n",
    "            'bbox': [0, 0, 0, 0],\n",
    "            'area': 0,\n",
    "        })"
   ]
  },
  {
   "cell_type": "code",
   "execution_count": 20,
   "metadata": {},
   "outputs": [],
   "source": [
    "toAdd = {\n",
    "    'info': info,\n",
    "    'licenses': licenses,\n",
    "    'categories': categories,\n",
    "    'images': images,\n",
    "    'annotations': annotations\n",
    "}"
   ]
  },
  {
   "cell_type": "code",
   "execution_count": 21,
   "metadata": {},
   "outputs": [],
   "source": [
    "with open('./dataset-DETR/valid/annotations.json', 'w') as f:\n",
    "    json.dump(toAdd, f)"
   ]
  },
  {
   "cell_type": "markdown",
   "metadata": {},
   "source": [
    "For testing"
   ]
  },
  {
   "cell_type": "code",
   "execution_count": 22,
   "metadata": {},
   "outputs": [],
   "source": [
    "images = []\n",
    "annotations = []\n",
    "for img in TEST:\n",
    "    \n",
    "    if \"sp\" in img:\n",
    "        width, height = 224, 224\n",
    "    else:\n",
    "        width, height = 512, 512\n",
    "\n",
    "    images.append({\n",
    "        'id': len(images),\n",
    "        'width': width,\n",
    "        'height': height,\n",
    "        'file_name': img,\n",
    "        'license': 1,\n",
    "    })\n",
    "\n",
    "    try:\n",
    "        xml_path = change_image_to_label(\"./dataset/labels/\" + img)\n",
    "        boxes = getBoxes(xml_path)\n",
    "\n",
    "        for box in boxes:\n",
    "            x, y, w, h = convert_coordinates(box)\n",
    "            annotations.append({\n",
    "                'id': len(annotations),\n",
    "                'image_id': len(images) - 1,\n",
    "                'category_id': 1,\n",
    "                'bbox': [x, y, w, h],\n",
    "                'area': w * h,\n",
    "            })\n",
    "    except:\n",
    "        annotations.append({\n",
    "            'id': len(annotations),\n",
    "            'image_id': len(images) - 1,\n",
    "            'category_id': 1,\n",
    "            'bbox': [0, 0, 0, 0],\n",
    "            'area': 0,\n",
    "        })"
   ]
  },
  {
   "cell_type": "code",
   "execution_count": 23,
   "metadata": {},
   "outputs": [],
   "source": [
    "toAdd = {\n",
    "    'info': info,\n",
    "    'licenses': licenses,\n",
    "    'categories': categories,\n",
    "    'images': images,\n",
    "    'annotations': annotations\n",
    "}"
   ]
  },
  {
   "cell_type": "code",
   "execution_count": 24,
   "metadata": {},
   "outputs": [],
   "source": [
    "with open('./dataset-DETR/test/annotations.json', 'w') as f:\n",
    "    json.dump(toAdd, f)"
   ]
  }
 ],
 "metadata": {
  "kernelspec": {
   "display_name": "Python 3",
   "language": "python",
   "name": "python3"
  },
  "language_info": {
   "codemirror_mode": {
    "name": "ipython",
    "version": 3
   },
   "file_extension": ".py",
   "mimetype": "text/x-python",
   "name": "python",
   "nbconvert_exporter": "python",
   "pygments_lexer": "ipython3",
   "version": "3.11.2"
  }
 },
 "nbformat": 4,
 "nbformat_minor": 2
}
